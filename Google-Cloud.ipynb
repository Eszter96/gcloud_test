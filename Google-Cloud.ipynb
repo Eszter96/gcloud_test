{
 "cells": [
  {
   "cell_type": "markdown",
   "id": "8436e3de",
   "metadata": {},
   "source": [
    "# Use Jupyter Notebook in Google Cloud AI platform\n",
    "### Please make sure you have a Google-Cloud account with free credit  and install anaconda and use a Jupyter notebook.  \n",
    "\n",
    "####  Optional: Feel free to use google-colab instead of  anaconda \"jupyter notebook\" "
   ]
  },
  {
   "cell_type": "markdown",
   "id": "fd50ca49",
   "metadata": {},
   "source": [
    "#### 1. Create a new notebook instance by customizing the instance with Python3. \n",
    "#### 2. Open your notebook instance with jupyterlab from the google-cloud  \"Optional if you want to integrate with GitHub or not\".\n",
    "#### 3. Check your pip list by using the magic commands sign. \n",
    "#### 4. Import and install the needed packages.  Hints \"pandas and xgboost\" \n",
    "#### 5. Connect to bigquery and query public data set within it. \" Bigquery: is a data warehouse\".   whatever data set you can select, i trained  \" San Francisco trees\" \n",
    "#### 6. Make three different training for the data set that you select earlier and show me what you have done. With limitations not more than 20 rows from the data set. "
   ]
  },
  {
   "cell_type": "code",
   "execution_count": null,
   "id": "3ceba8b3",
   "metadata": {},
   "outputs": [],
   "source": []
  }
 ],
 "metadata": {
  "kernelspec": {
   "display_name": "Python 3 (ipykernel)",
   "language": "python",
   "name": "python3"
  },
  "language_info": {
   "codemirror_mode": {
    "name": "ipython",
    "version": 3
   },
   "file_extension": ".py",
   "mimetype": "text/x-python",
   "name": "python",
   "nbconvert_exporter": "python",
   "pygments_lexer": "ipython3",
   "version": "3.8.12"
  }
 },
 "nbformat": 4,
 "nbformat_minor": 5
}
